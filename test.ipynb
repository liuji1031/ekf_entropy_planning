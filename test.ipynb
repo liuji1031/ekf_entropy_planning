{
 "cells": [
  {
   "cell_type": "code",
   "execution_count": 6,
   "metadata": {
    "metadata": {}
   },
   "outputs": [],
   "source": [
    "import numpy as np\n",
    "from numpy import cos, sin\n",
    "from numpy.linalg import inv as matinv\n",
    "from numpy.linalg import multi_dot\n",
    "from scipy.optimize import minimize\n",
    "from scipy.linalg import block_diag\n",
    "from easydict import EasyDict as edict"
   ]
  },
  {
   "cell_type": "code",
   "execution_count": 7,
   "metadata": {
    "metadata": {}
   },
   "outputs": [],
   "source": [
    "DELTA_T = 0.1\n",
    "CAM_HEIGHT = 1.0\n",
    "FX = 1.0\n",
    "FY = 1.0\n",
    "PX = 0\n",
    "PY = 0\n",
    "PROCESS_NOISE_COV = np.diag([0.1,0.1,0.01]) # robot pose, (x,y,theta)\n",
    "OBS_NOISE_COV = np.diag([0.1,0.1]) # pixel coord, (ux, uy)\n",
    "POSE_DIM = 3\n",
    "SCENE_PT_DIM = 3"
   ]
  },
  {
   "cell_type": "markdown",
   "metadata": {},
   "source": [
    "## SymPy Definitions\n",
    "\n"
   ]
  },
  {
   "cell_type": "code",
   "execution_count": 8,
   "metadata": {
    "metadata": {}
   },
   "outputs": [],
   "source": [
    "from sympy import symbols, Matrix, BlockMatrix, lambdify\n",
    "from sympy import cos as c\n",
    "from sympy import sin as s\n",
    "from sympy import diff\n",
    "xr, yr, t, xs, ys, zs = symbols(\"x_r y_r \\\\theta X_s Y_s Z_s\")\n",
    "hc = symbols(\"h_c\")\n",
    "fx, fy, px, py = symbols(\"f_x f_y p_x p_y\")\n",
    "\n",
    "Rrobot = Matrix([[c(t), -s(t), 0],\n",
    "                 [s(t),  c(t), 0],\n",
    "                 [0,     0,    1]])\n",
    "trobot = Matrix([[xr],[yr],[0]])\n",
    "tmp = Matrix(BlockMatrix([Rrobot,trobot]))\n",
    "Trobot = Matrix([[tmp],[0,0,0,1]])\n",
    "\n",
    "tmp = Matrix(BlockMatrix([Rrobot.transpose(),-Rrobot.transpose()*trobot]))\n",
    "Trobot_inv = Matrix([[tmp],[0,0,0,1]])\n",
    "\n",
    "Rbc = Matrix([[0,  0, 1],\n",
    "                 [-1, 0, 0],\n",
    "                 [0, -1, 0]])\n",
    "tbc = Matrix([[0],[0],[hc]])\n",
    "tmp = Matrix(BlockMatrix([Rbc,tbc]))\n",
    "Tbc = Matrix([[tmp],[0,0,0,1]])\n",
    "\n",
    "Tbc_inv = Tbc.inv()\n",
    "Tcam_inv = Tbc_inv*Trobot_inv\n",
    "Tcam_inv\n",
    "\n",
    "coord_cam_frame = Tcam_inv*Matrix([[xs],[ys],[zs],[1]])\n",
    "xs_hat = coord_cam_frame[0]\n",
    "ys_hat = coord_cam_frame[1]\n",
    "zs_hat = coord_cam_frame[2]\n",
    "\n",
    "ux = fx*xs_hat/zs_hat + px\n",
    "uy = fy*ys_hat/zs_hat + py\n",
    "\n",
    "dux_dxr = diff(ux, xr)\n",
    "dux_dyr = diff(ux, yr)\n",
    "dux_dt  = diff(ux, t)\n",
    "dux_dxs = diff(ux, xs)\n",
    "dux_dys = diff(ux, ys)\n",
    "dux_dzs = diff(ux, zs)\n",
    "\n",
    "duy_dxr = diff(uy, xr)\n",
    "duy_dyr = diff(uy, yr)\n",
    "duy_dt  = diff(uy, t)\n",
    "duy_dxs = diff(uy, xs)\n",
    "duy_dys = diff(uy, ys)\n",
    "duy_dzs = diff(uy, zs)\n",
    "\n",
    "Hr = Matrix([[dux_dxr, dux_dyr, dux_dt],\n",
    "             [duy_dxr, duy_dyr, duy_dt]])\n",
    "\n",
    "Hs = Matrix([[dux_dxs,dux_dys,dux_dzs],\n",
    "             [duy_dxs,duy_dys,duy_dzs]])"
   ]
  },
  {
   "cell_type": "code",
   "execution_count": 51,
   "metadata": {},
   "outputs": [],
   "source": [
    "def fill_default(f):\n",
    "    return lambda xr,yr,t,xs,ys,zs: f(xr,yr,t,xs,ys,zs,CAM_HEIGHT,FX,FY,PX,PY)\n",
    "\n",
    "input_vars = [xr,yr,t,xs,ys,zs,hc,fx,fy,px,py]\n",
    "\n",
    "# define lambda functions to calculate H w.r.t robot pose (Hr) and w.r.t scene\n",
    "# point (Hs)\n",
    "Hr_fcn = fill_default(lambdify(input_vars,Hr,\"numpy\"))\n",
    "Hs_fcn = fill_default(lambdify(input_vars,Hs,\"numpy\"))\n",
    "\n",
    "dHr_dxr = fill_default(lambdify(input_vars,diff(Hr,xr),\"numpy\"))\n",
    "dHr_dyr = fill_default(lambdify(input_vars,diff(Hr,yr),\"numpy\"))\n",
    "dHr_dt  = fill_default(lambdify(input_vars,diff(Hr,t),\"numpy\"))\n",
    "dHr_dxs = fill_default(lambdify(input_vars,diff(Hr,xs),\"numpy\"))\n",
    "dHr_dys = fill_default(lambdify(input_vars,diff(Hr,ys),\"numpy\"))\n",
    "dHr_dzs = fill_default(lambdify(input_vars,diff(Hr,zs),\"numpy\"))\n",
    "\n",
    "dHs_dxr = fill_default(lambdify(input_vars,diff(Hs,xr),\"numpy\"))\n",
    "dHs_dyr = fill_default(lambdify(input_vars,diff(Hs,yr),\"numpy\"))\n",
    "dHs_dt  = fill_default(lambdify(input_vars,diff(Hs,t),\"numpy\"))\n",
    "dHs_dxs = fill_default(lambdify(input_vars,diff(Hs,xs),\"numpy\"))\n",
    "dHs_dys = fill_default(lambdify(input_vars,diff(Hs,ys),\"numpy\"))\n",
    "dHs_dzs = fill_default(lambdify(input_vars,diff(Hs,zs),\"numpy\"))\n",
    "\n",
    "def construct_H(x_dim,Hr,Hs,landmark_ind):\n",
    "    H = np.zeros((2,x_dim))\n",
    "    H[:,:POSE_DIM] = Hr\n",
    "    i=landmark_ind\n",
    "    start = POSE_DIM+i*SCENE_PT_DIM\n",
    "    end = POSE_DIM+(i+1)*SCENE_PT_DIM\n",
    "    H[:,start:end] = Hs\n",
    "    return H\n",
    "\n",
    "def get_scene_pt(x, landmark_ind):\n",
    "    i=landmark_ind\n",
    "    start = POSE_DIM+i*SCENE_PT_DIM\n",
    "    end = POSE_DIM+(i+1)*SCENE_PT_DIM\n",
    "    return x[start:end].squeeze()\n",
    "\n",
    "def get_robot_pose(x):\n",
    "    return x[:POSE_DIM].squeeze()\n",
    "\n",
    "def state_transition(x, u, noise, dt=0.1):\n",
    "    \"\"\"state transition of a omnidirectional wheeled robot commanded by linear \n",
    "    velocity in x, y direction, and an angular velocity. In the simulation,\n",
    "    it is simply implemented as two linear joints and one rotational joint\n",
    "\n",
    "    Args:\n",
    "        x (_type_): state vector. the first 3 elements correspond to robot pose\n",
    "        u (_type_): control signal, vx, vy and wz\n",
    "        noise (_type_): _description_\n",
    "    \"\"\"\n",
    "    if not isinstance(noise, np.ndarray):\n",
    "        noise = noise*np.ones(3)\n",
    "\n",
    "    # unpack\n",
    "    vx, vy, wz = u\n",
    "\n",
    "    # update\n",
    "    x[0] = x[0]+vx*dt+noise[0]\n",
    "    x[1] = x[1]+vy*dt+noise[1]\n",
    "    x[2] = wrap(x[2]+wz*dt)+noise[2]\n",
    "\n",
    "    return x\n",
    "\n",
    "def observation_jacobian(x, landmark_ind):\n",
    "    \"\"\"define the jacobian of the observation model using the lambdified sympy\n",
    "    functions. Each jacobian is based on a single observation point\n",
    "\n",
    "    Args:\n",
    "        x (_type_): _description_\n",
    "        landmark_ind (_type_): _description_\n",
    "\n",
    "    Returns:\n",
    "        _type_: _description_\n",
    "    \"\"\"\n",
    "    xr, yr, t = get_robot_pose(x)\n",
    "    xs,ys,zs = get_scene_pt(x,landmark_ind)\n",
    "\n",
    "    Hr = Hr_fcn(xr,yr,t,xs,ys,zs)\n",
    "    Hs = Hs_fcn(xr,yr,t,xs,ys,zs)\n",
    "    H = construct_H(x.shape[0],Hr,Hs,landmark_ind)\n",
    "\n",
    "    return H\n",
    "\n",
    "def dH_dxk_fcn(x, landmark_ind, k):\n",
    "    \"\"\"calculate the derivative of observation Jacobian H w.r.t state variable\n",
    "    x's kth component\n",
    "\n",
    "    Args:\n",
    "        x (_type_): _description_\n",
    "    \"\"\"\n",
    "    \n",
    "    n = x.shape[0]\n",
    "    if k>=n:\n",
    "        raise ValueError\n",
    "    \n",
    "    xr, yr, t = get_robot_pose(x)\n",
    "    xs, ys, zs = get_scene_pt(x,landmark_ind)\n",
    "    inputs = [xr,yr,t,xs,ys,zs]\n",
    "    if k==0: # k determins which variable to take derivative\n",
    "        # w.r.t. xr\n",
    "        return construct_H(n,dHr_dxr(*inputs),dHs_dxr(*inputs),landmark_ind)\n",
    "    elif k==1:\n",
    "        # w.r.t. yr\n",
    "        return construct_H(n,dHr_dyr(*inputs),dHs_dyr(*inputs),landmark_ind)\n",
    "    elif k==2:\n",
    "        # w.r.t theta\n",
    "        return construct_H(n,dHr_dt(*inputs),dHs_dt(*inputs),landmark_ind)\n",
    "    else:\n",
    "        if k%3==0:\n",
    "            # xs\n",
    "            return construct_H(n,dHr_dxs(*inputs),dHs_dxs(*inputs),landmark_ind)\n",
    "        elif k%3==1:\n",
    "            # ys\n",
    "            return construct_H(n,dHr_dys(*inputs),dHs_dys(*inputs),landmark_ind)\n",
    "        elif k%3==2:\n",
    "            # zs\n",
    "            return construct_H(n,dHr_dzs(*inputs),dHs_dzs(*inputs),landmark_ind)\n",
    "        \n",
    "def state_transition(x, u, noise, dt=0.1):\n",
    "    \"\"\"state transition of a omnidirectional wheeled robot commanded by linear \n",
    "    velocity in x, y direction, and an angular velocity. In the simulation,\n",
    "    it is simply implemented as two linear joints and one rotational joint\n",
    "\n",
    "    Args:\n",
    "        x (_type_): state vector. the first 3 elements correspond to robot pose\n",
    "        u (_type_): control signal, vx, vy and wz\n",
    "        noise (_type_): _description_\n",
    "    \"\"\"\n",
    "    if not isinstance(noise, np.ndarray):\n",
    "        noise = noise*np.ones(POSE_DIM)\n",
    "    else:\n",
    "        noise = np.random.multivariate_normal(mean=np.zeros(POSE_DIM),\n",
    "                                              cov=noise)\n",
    "\n",
    "    # unpack\n",
    "    vx, vy, wz = u\n",
    "\n",
    "    # update\n",
    "    x[0] = x[0]+vx*dt+noise[0]\n",
    "    x[1] = x[1]+vy*dt+noise[1]\n",
    "    x[2] = x[2]+wz*dt+noise[2]\n",
    "\n",
    "    return x\n",
    "\n",
    "def state_transition_jacobian(x):\n",
    "    n = x.shape[0]\n",
    "    F = np.eye(n)\n",
    "    G = np.zeros((n,POSE_DIM))\n",
    "    G[0,0] = 1\n",
    "    G[1,1] = 1\n",
    "    G[2,2] = 1\n",
    "    return F,G\n",
    "\n",
    "def loss_func(vars,x0,P0):\n",
    "    \"\"\"the loss function to be minimized by the scipy.optimize.minimize function\n",
    "    vars consist of a series of both state x and control input u. \n",
    "\n",
    "    Args:\n",
    "        vars (_type_): _description_\n",
    "    \"\"\"\n",
    "    Q = PROCESS_NOISE_COV # 3 by 3\n",
    "    R = OBS_NOISE_COV # 2 by 2\n",
    "    dt = DELTA_T\n",
    "\n",
    "    x_dim = x0.shape[0]\n",
    "    u_dim = POSE_DIM\n",
    "    n_landmark = int((x_dim-POSE_DIM)/SCENE_PT_DIM)\n",
    "    \n",
    "    ########################### 1. FORWARD PASS ###############################\n",
    "\n",
    "    # unpack vars, supposing ut,xt,ut+1,xt+1\n",
    "    dim = u_dim+x_dim\n",
    "    n_pass = int(vars.shape[0]/dim)\n",
    "    x_prev = x0\n",
    "    P_prev = P0\n",
    "    cache = [None]*n_pass\n",
    "    for i in range(n_pass):\n",
    "        # the jacobians are evaluated at the series of x's\n",
    "        u = vars[i*dim:i*dim+u_dim]\n",
    "        x = vars[i*dim+u_dim:(i+1)*dim]\n",
    "\n",
    "        # evaluate jacobian w.r.t state at the previous state\n",
    "        F,G = state_transition_jacobian(x_prev)\n",
    "\n",
    "        x_pred = state_transition(x_prev, u, 0) # zero noise\n",
    "        x_next = x_pred\n",
    "        # y_pred = observation_model(x_pred)\n",
    "        # the covariance matrix after motion model / prediction step\n",
    "        P_pred = multi_dot([F,P_prev,F.T]) + \\\n",
    "            multi_dot([G,Q,G.T])\n",
    "\n",
    "        # set P_ to P_pred to iterate through all landmarks\n",
    "        P_ = P_pred\n",
    "        cache_pred = [None]*n_landmark # cache for storing intermediate P_'s\n",
    "\n",
    "        # go through each landmark\n",
    "        for ind in range(n_landmark):\n",
    "            # jacobian of measurement model w.r.t state\n",
    "            H = observation_jacobian(x_pred, landmark_ind=ind)\n",
    "\n",
    "            S = multi_dot([H, P_, H.T])+R\n",
    "\n",
    "            # Kalman gain\n",
    "            K = multi_dot([P_, H.T, matinv(S)])\n",
    "\n",
    "            # update cov P\n",
    "            I_KH = np.eye(x_dim)-K.dot(H)\n",
    "            P_next = I_KH.dot(P_)\n",
    "\n",
    "            cache_pred[ind]=(P_,P_next,K,H,I_KH)\n",
    "            P_ = P_next\n",
    "        \n",
    "        cache[i] = (x_prev,x_next,F,G,P_prev,P_pred,P_next,cache_pred,Q,R)\n",
    "\n",
    "        # update variables\n",
    "        x_prev = x # note this is the variable to be optimized over\n",
    "        P_prev = P_next\n",
    "\n",
    "    P0_inv = np.linalg.inv(P0)\n",
    "    loss = np.trace(P0_inv.dot(P_next))\n",
    "\n",
    "    ########################### 2. BACKWARD PASS ##############################\n",
    "    \n",
    "    # ref: Benhamou, J., Bonnabel, S., & Chapdelaine, C. (2024). \n",
    "    # Backpropagation-Based Analytical Derivatives of EKF Covariance for Active \n",
    "    # Sensing. arXiv preprint arXiv:2402.17569. \n",
    "\n",
    "    # initialize gradient w.r.t PN\n",
    "    dL_dPn = P0_inv \n",
    "\n",
    "    # calculate derivative w.r.t the matrices\n",
    "    dmat = [None]*n_pass\n",
    "    for i in np.arange(n_pass-1,-1,-1):\n",
    "        # unpack cache\n",
    "        x_prev,x_next,Fn,Gn,Pnm1,Pn_nm1,Pn,cache_pred,Q,R = cache[i]\n",
    "\n",
    "        # dL/dP(n-1)|(n-1)\n",
    "        dL_dPn_list = [None]*n_landmark\n",
    "        dL_dPn_list[-1] = dL_dPn\n",
    "        dL_dHn_list = [None]*n_landmark\n",
    "        for j in np.arange(n_landmark-1,-1,-1):\n",
    "            P_,P_next,K,H,I_KH = cache_pred[j]\n",
    "            if j>0:\n",
    "                tmp = dL_dPn_list[j]\n",
    "                dL_dPn_list[j-1] = multi_dot([I_KH.T,dL_dPn_list[j],I_KH])\n",
    "            else: # j=0\n",
    "                # dL/dPn|(n-1)\n",
    "                dL_dPn_nm1 = multi_dot([I_KH.T,dL_dPn_list[0],I_KH])\n",
    "\n",
    "            # dL/dHn\n",
    "            dL_dHn_list[j] = np.transpose(-2*multi_dot(\n",
    "                [P_next, dL_dPn_list[j], P_next, H.T, matinv(R)]))\n",
    "\n",
    "        dL_dPnm1 = multi_dot([Fn.T,dL_dPn_nm1,Fn])\n",
    "\n",
    "        # dL/dFn\n",
    "        dL_dFn = 2*multi_dot([dL_dPn_nm1, Fn, Pnm1])\n",
    "\n",
    "        # dL/dGn\n",
    "        dL_dGn = 2*multi_dot([dL_dPn_nm1, Gn, Q])\n",
    "\n",
    "        # dL/dRn\n",
    "        dL_dRn = None # the paper calculates this term, but our implementation \n",
    "                      # does not have Rn depending on x\n",
    "\n",
    "        # append all results\n",
    "        dmat[i]=(dL_dPn_list,dL_dPn_nm1,dL_dPnm1,dL_dFn,dL_dGn,dL_dHn_list)\n",
    "\n",
    "        # make current\n",
    "        dL_dPn = dL_dPnm1\n",
    "    \n",
    "    grad = None\n",
    "    dL_dxn = np.zeros((x_dim,n_pass))\n",
    "    dL_du = np.zeros((u_dim, n_pass ))\n",
    "    for i_pass in np.arange(n_pass-1,-1,-1):\n",
    "        # unpack cache\n",
    "        x_prev,x_next,Fn,Gn,Pnm1,Pn_nm1,Pn,cache_pred,Q,R = cache[i_pass]\n",
    "        dL_dPn_list,dL_dPn_nm1,dL_dPnm1,dL_dFn,dL_dGn,dL_dHn_list = dmat[i_pass]\n",
    "\n",
    "        # compute gradient for x, element wise\n",
    "        for ind in range(n_landmark):\n",
    "            for k in range(x_dim):\n",
    "                dH_dxk = dH_dxk_fcn(x_next,landmark_ind=ind,k=k)\n",
    "                dL_dxn[k,i_pass] += np.trace(multi_dot([\n",
    "                    dL_dHn_list[ind].T, dH_dxk\n",
    "                    ]))\n",
    "\n",
    "        # if i < n_pass-1, add the derivative coming from xn+1\n",
    "        E = np.eye(x_dim)\n",
    "        if i_pass < n_pass-1:\n",
    "            for k in range(x_dim):\n",
    "                dL_dxn[k,i_pass] += np.trace(multi_dot([\n",
    "                    dL_dxn[:,[i_pass+1]].T, E[:,[k]]\n",
    "                    ]))      \n",
    "\n",
    "        # compute gradient for u, element-wise\n",
    "        for k in range(u_dim):\n",
    "            # first two terms in the paper are 0\n",
    "            tmp = np.zeros((x_dim,1))\n",
    "            tmp[k,0] = dt\n",
    "            dL_du[k,i_pass] = np.trace(multi_dot([dL_dxn[:,[i_pass]].T, tmp]))\n",
    "\n",
    "    grad = np.vstack([dL_du, dL_dxn]).T\n",
    "    grad = grad.reshape((-1,1))\n",
    "\n",
    "    return loss, grad"
   ]
  },
  {
   "cell_type": "markdown",
   "metadata": {},
   "source": [
    "## Test loss function implementation"
   ]
  },
  {
   "cell_type": "code",
   "execution_count": 52,
   "metadata": {},
   "outputs": [
    {
     "data": {
      "text/plain": [
       "array([[ 0.],\n",
       "       [ 0.],\n",
       "       [ 0.],\n",
       "       [ 1.],\n",
       "       [ 1.],\n",
       "       [ 1.],\n",
       "       [ 1.],\n",
       "       [-1.],\n",
       "       [ 1.]])"
      ]
     },
     "execution_count": 52,
     "metadata": {},
     "output_type": "execute_result"
    }
   ],
   "source": [
    "# assume two scene points\n",
    "robot_pose = [0,0,0]\n",
    "scene_pt1 = [1.0,1.0,1.0]\n",
    "scene_pt2 = [1.0,-1.0,1.0]\n",
    "\n",
    "x0 = np.array(robot_pose+scene_pt1+scene_pt2)[:,np.newaxis]\n",
    "x0"
   ]
  },
  {
   "cell_type": "code",
   "execution_count": 53,
   "metadata": {},
   "outputs": [
    {
     "name": "stdout",
     "output_type": "stream",
     "text": [
      "[20.03337457 16.44419682 13.43738756  0.39230236  0.69298967  8.38533237\n",
      "  5.84416695  4.98322548  3.17386874]\n"
     ]
    }
   ],
   "source": [
    "# pick some random covariance matrix\n",
    "tmp = np.random.randn(x0.shape[0],x0.shape[0])\n",
    "P0 = multi_dot([tmp.T,tmp])\n",
    "w,d = np.linalg.eig(P0)\n",
    "print(w)"
   ]
  },
  {
   "cell_type": "code",
   "execution_count": 54,
   "metadata": {},
   "outputs": [
    {
     "name": "stdout",
     "output_type": "stream",
     "text": [
      "[[ 0.1 ]\n",
      " [ 0.1 ]\n",
      " [ 0.  ]\n",
      " [ 0.01]\n",
      " [ 0.01]\n",
      " [ 0.  ]\n",
      " [ 1.  ]\n",
      " [ 1.  ]\n",
      " [ 1.  ]\n",
      " [ 1.  ]\n",
      " [-1.  ]\n",
      " [ 1.  ]\n",
      " [ 0.1 ]\n",
      " [ 0.1 ]\n",
      " [ 0.  ]\n",
      " [ 0.02]\n",
      " [ 0.02]\n",
      " [ 0.  ]\n",
      " [ 1.  ]\n",
      " [ 1.  ]\n",
      " [ 1.  ]\n",
      " [ 1.  ]\n",
      " [-1.  ]\n",
      " [ 1.  ]\n",
      " [ 0.1 ]\n",
      " [ 0.1 ]\n",
      " [ 0.  ]\n",
      " [ 0.03]\n",
      " [ 0.03]\n",
      " [ 0.  ]\n",
      " [ 1.  ]\n",
      " [ 1.  ]\n",
      " [ 1.  ]\n",
      " [ 1.  ]\n",
      " [-1.  ]\n",
      " [ 1.  ]]\n"
     ]
    }
   ],
   "source": [
    "# suppose moving constant in one direction, no rotation\n",
    "vx = 0.1\n",
    "vy = 0.1\n",
    "w = 0\n",
    "n_pass = 3\n",
    "x = x0\n",
    "vars = None\n",
    "for i_pass in range(n_pass):\n",
    "    u = np.array([vx,vy,w])[:,np.newaxis]\n",
    "    x = state_transition(x,u,0)\n",
    "    \n",
    "    tmp = np.concatenate([u,x],axis=0)\n",
    "    if vars is None:\n",
    "        vars = tmp\n",
    "    else:\n",
    "        vars = np.concatenate([vars,tmp],axis=0)\n",
    "print(vars)\n",
    "\n"
   ]
  },
  {
   "cell_type": "code",
   "execution_count": 55,
   "metadata": {},
   "outputs": [
    {
     "name": "stdout",
     "output_type": "stream",
     "text": [
      "5.2403349268064146\n",
      "[[-0.03655274]\n",
      " [ 0.00644569]\n",
      " [-0.01878454]\n",
      " [-0.3655274 ]\n",
      " [ 0.06445688]\n",
      " [-0.18784539]\n",
      " [ 0.3655274 ]\n",
      " [-0.06445688]\n",
      " [ 0.01235754]\n",
      " [ 0.3655274 ]\n",
      " [-0.06445688]\n",
      " [ 0.01235754]\n",
      " [ 0.09986711]\n",
      " [ 0.27827842]\n",
      " [-0.01059417]\n",
      " [ 0.99867109]\n",
      " [ 2.78278424]\n",
      " [-0.10594171]\n",
      " [-0.99867109]\n",
      " [-2.78278424]\n",
      " [ 0.00813526]\n",
      " [-0.99867109]\n",
      " [-2.78278424]\n",
      " [ 0.00813526]\n",
      " [-0.07509215]\n",
      " [-0.02856238]\n",
      " [-0.00612263]\n",
      " [-0.75092154]\n",
      " [-0.28562375]\n",
      " [-0.0612263 ]\n",
      " [ 0.75092154]\n",
      " [ 0.28562375]\n",
      " [ 0.00416587]\n",
      " [ 0.75092154]\n",
      " [ 0.28562375]\n",
      " [ 0.00416587]]\n"
     ]
    }
   ],
   "source": [
    "loss, grad = loss_func(vars,x0,P0)\n",
    "print(loss)\n",
    "print(grad)"
   ]
  },
  {
   "cell_type": "code",
   "execution_count": null,
   "metadata": {},
   "outputs": [],
   "source": []
  },
  {
   "cell_type": "code",
   "execution_count": null,
   "metadata": {},
   "outputs": [],
   "source": [
    "\n",
    "\n",
    "def wrap(rad):\n",
    "    \"\"\"wrap a angle between 0 to 2pi\n",
    "\n",
    "    Args:\n",
    "        rad (_type_): _description_\n",
    "    \"\"\"\n",
    "    twopi = 2*np.pi\n",
    "    while rad >= twopi:\n",
    "        rad-=twopi\n",
    "    \n",
    "    while rad<0:\n",
    "        rad+=twopi\n",
    "    return rad\n",
    "\n",
    "def forward_ekf_single_pass(x,P,u,\n",
    "                            Q=PROCESS_NOISE_COV,\n",
    "                            R=OBS_NOISE_COV,\n",
    "                            y=None,\n",
    "                            landmark_ind=None):\n",
    "    \"\"\"compute one pass of ekf update\n",
    "\n",
    "    Args:\n",
    "        x (_type_): state mean\n",
    "        P: state cov matrix\n",
    "        u (_type_): control input\n",
    "        y : new measurement    print(x_dim, u_dim, n_landmark)\n",
    "ariance\n",
    "        jacobians (_type_): dictionary coding various jacobians\n",
    "        state_transition : state transition function\n",
    "        observation_model : measurement function\n",
    "    \"\"\"\n",
    "\n",
    "    # F: jacobian of state transition w.r.t x\n",
    "    # G: jacobian of state transition w.r.t process noise\n",
    "    F,G = state_transition_jacobian(x) # linearize around the previous mean\n",
    "\n",
    "    # ======= 1. prediction step ========= #\n",
    "    x_pred = state_transition(x, u, 0) # zero noise\n",
    "    y_pred = observation_model(x_pred)\n",
    "    n_obs = len(y_pred)\n",
    "\n",
    "    # jacobian of measurement model w.r.t state\n",
    "    H = observation_model_jacobian(x_pred,landmark_ind)\n",
    "\n",
    "    P_ = multi_dot([F, P, F.T]) + multi_dot([G,Q,G.T])\n",
    "    S = multi_dot(H, P_, H.T) + block_diag(*[R for _ in range(n_obs)])\n",
    "\n",
    "    # Kalman gain\n",
    "    K = multi_dot(P_, H.T, np.linalg.inv(S))\n",
    "\n",
    "    # ======= 2. correction step ========= #\n",
    "    n = x.shape[0]\n",
    "    if y is None: # no real observation\n",
    "        y = y_pred\n",
    "    x_next = x + K.dot(y-y_pred)\n",
    "    P_next = (np.eye(n)-K.dot(H)).dot(P)\n",
    "\n",
    "    out = edict()\n",
    "    out.x = x\n",
    "    out.P = P\n",
    "    out.x_pred = x_pred\n",
    "    out.x_next = x_next\n",
    "    out.P_next = P_next\n",
    "    out.u = u\n",
    "    out.R = R\n",
    "    out.F = F\n",
    "    out.G = G\n",
    "    out.H = H\n",
    "    out.y_pred = y_pred\n",
    "    out.P_ = P_\n",
    "    out.S = S\n",
    "    out.K = K\n",
    "\n",
    "    return out\n",
    "\n",
    "def forward_ekf_multiple_pass(x0,P0,u_list,R):\n",
    "    n_pass = u_list\n",
    "    x = x0\n",
    "    P = P0\n",
    "    for i in range(n_pass):\n",
    "        out = forward_ekf_single_pass(x,P,u_list[i])\n",
    "        x = out.x_next\n",
    "        P = out.P_next\n",
    "\n",
    "    # return the trace of the normalized final cov matrix (premultiply with P0\n",
    "    # inverse)\n",
    "    return np.trace(np.linalg.inv(P0).dot(P))\n",
    "\n",
    "\n",
    "\n",
    "def state_transition_jacobian(x):\n",
    "    n = x.shape[0]\n",
    "    F = np.eye(n)\n",
    "    G = np.zeros((n,n))\n",
    "    G[0,0] = 1\n",
    "    G[1,1] = 1\n",
    "    G[2,2] = 1\n",
    "    return F,G\n",
    "\n",
    "def cam_pose_matrix(x, hc=CAM_HEIGHT):\n",
    "    # unpack robot pose\n",
    "    xr, yr, theta = x[:2]\n",
    "\n",
    "    # robot pose matrix\n",
    "    Rrobot = np.array([[cos(theta), -sin(theta),0],\n",
    "                       [sin(theta), cos(theta),0],\n",
    "                       [0,0,1]])\n",
    "    trobot = np.array([[xr],[yr],0])\n",
    "\n",
    "    Trobot_inv = np.concatenate([Rrobot.T,-Rrobot.T.dot(trobot)],axis=1)\n",
    "    Trobot_inv = np.concatenate([Trobot_inv, np.array([[0,0,0,1]])],axis=0)\n",
    "\n",
    "    Tbc_inv = np.array([[0,-1, 0,  0],\n",
    "                        [0, 0,-1, hc],\n",
    "                        [1, 0, 0,  0],\n",
    "                        [0, 0, 0,  1]])\n",
    "    \n",
    "    Tcam_inv = multi_dot([Tbc_inv, Trobot_inv])\n",
    "    return Tcam_inv\n",
    "\n",
    "def get_cam_frame_coord(x, Tcam_inv, ind):\n",
    "    xs,ys,zs = x[3+ind*3:3+ind*3+3]\n",
    "    h_coord = np.array([xs,ys,zs,1])[:,np.newaxis]\n",
    "    xs_hat, ys_hat, zs_hat, _ = Tcam_inv.dot(h_coord).flatten()\n",
    "    return xs_hat, ys_hat, zs_hat\n",
    "\n",
    "def project(xs_hat, ys_hat, zs_hat, fx=FX,fy=FY,px=PX,py=PY):\n",
    "    ux = fx*xs_hat/zs_hat+px\n",
    "    uy = fx*ys_hat/zs_hat+py\n",
    "    return ux, uy\n",
    "\n",
    "def observation_model(x,landmark_indices=None):\n",
    "    \"\"\" get the camera projection points of the landmarks\n",
    "\n",
    "    Args:\n",
    "        x (_type_): _description_\n",
    "        camera_height (_type_): _description_\n",
    "        calibration_matrix (_type_): _description_\n",
    "    \"\"\"\n",
    "    if landmark_indices is None:\n",
    "        n = x.shape\n",
    "        landmark_indices = [_ for _ in range((n-3)/3)]\n",
    "    Tcam_inv = cam_pose_matrix(x)\n",
    "    n_l = len(landmark_indices)\n",
    "    out = np.zeros((n_l*2,1))\n",
    "    for k,ind in enumerate(landmark_indices):\n",
    "        xs_hat, ys_hat, zs_hat,_ = get_cam_frame_coord(x, Tcam_inv, ind)\n",
    "        ux,uy = project(xs_hat, ys_hat, zs_hat)\n",
    "        out[2*k] = ux\n",
    "        out[2*k+1] = uy\n",
    "\n",
    "    return out\n",
    "\n",
    "def observation_model_jacobian(x,\n",
    "                               landmark_ind,\n",
    "                               fx=FX,fy=FY):\n",
    "    Tcam_inv = cam_pose_matrix(x)\n",
    "    ind = landmark_ind\n",
    "\n",
    "    xs_hat, ys_hat, zs_hat,_ = get_cam_frame_coord(x, Tcam_inv, ind)\n",
    "    theta = x[2]\n",
    "\n",
    "    # A equals xs_hat\n",
    "    A = xs_hat\n",
    "    B = zs_hat\n",
    "    A_B2 = A/B**2\n",
    "    B_inv = 1/B\n",
    "    c = cos(theta)\n",
    "    s = sin(theta)\n",
    "\n",
    "    # dux/dvar\n",
    "    dux_dxr = fx*(-B_inv*s+A_B2*c)\n",
    "    dux_dyr = fx*(B_inv*c+A_B2*s)\n",
    "    dux_dtheta = fx*(1+A*A_B2)\n",
    "    dux_dxs = fx*(B_inv*s-A_B2*c)\n",
    "    dux_dys = fx*(-B_inv*c-A_B2*s)\n",
    "    dux_dzs = 0\n",
    "\n",
    "    # duy/dvar\n",
    "    tmp = fy*ys_hat/(-zs_hat**2)\n",
    "    duy_dxr = tmp*(-c)\n",
    "    duy_dyr = tmp*(-s)\n",
    "    duy_dtheta = tmp*(-xs_hat)\n",
    "    duy_dxs = tmp*c\n",
    "    duy_dys = tmp*s\n",
    "    duy_dzs = -fy/zs_hat\n",
    "\n",
    "    Jr = np.array([[dux_dxr, dux_dyr, dux_dtheta],\n",
    "                   [duy_dxr, duy_dyr, duy_dtheta]])\n",
    "    \n",
    "    Jl = np.array([[dux_dxs, dux_dys, dux_dzs],\n",
    "                   [duy_dxs, duy_dys, duy_dzs]])\n",
    "    \n",
    "    N = 3+3*4\n",
    "    H = np.zeros((2,N))\n",
    "    H[:,:3] = Jr\n",
    "    i = landmark_ind\n",
    "    H[:,3+i*3:3+i*3+3] = Jl\n",
    "\n",
    "    return H"
   ]
  },
  {
   "cell_type": "code",
   "execution_count": 1,
   "metadata": {},
   "outputs": [],
   "source": [
    "import numpy as np\n"
   ]
  },
  {
   "cell_type": "code",
   "execution_count": 5,
   "metadata": {},
   "outputs": [
    {
     "data": {
      "text/plain": [
       "array([1, 2, 1, 2])"
      ]
     },
     "execution_count": 5,
     "metadata": {},
     "output_type": "execute_result"
    }
   ],
   "source": [
    "a = np.array([1,2])\n",
    "np.concatenate([a,a])"
   ]
  },
  {
   "cell_type": "markdown",
   "metadata": {},
   "source": [
    "## Confirm Jacobian calculations"
   ]
  },
  {
   "cell_type": "code",
   "execution_count": 2,
   "metadata": {},
   "outputs": [],
   "source": [
    "from sympy import symbols, Matrix, BlockMatrix\n",
    "from sympy import cos as c\n",
    "from sympy import sin as s\n",
    "from sympy import diff"
   ]
  },
  {
   "cell_type": "code",
   "execution_count": 3,
   "metadata": {},
   "outputs": [],
   "source": [
    "xr, yr, t, xs, ys, zs = symbols(\"x_r y_r \\\\theta X_s Y_s Z_s\")\n",
    "hc = symbols(\"h_c\")\n",
    "fx, fy, px, py = symbols(\"f_x f_y p_x p_y\")"
   ]
  },
  {
   "cell_type": "code",
   "execution_count": 5,
   "metadata": {},
   "outputs": [
    {
     "data": {
      "text/latex": [
       "$\\displaystyle \\left[\\begin{matrix}\\cos{\\left(\\theta \\right)} & - \\sin{\\left(\\theta \\right)} & 0 & x_{r}\\\\\\sin{\\left(\\theta \\right)} & \\cos{\\left(\\theta \\right)} & 0 & y_{r}\\\\0 & 0 & 1 & 0\\\\0 & 0 & 0 & 1\\end{matrix}\\right]$"
      ],
      "text/plain": [
       "Matrix([\n",
       "[cos(\\theta), -sin(\\theta), 0, x_r],\n",
       "[sin(\\theta),  cos(\\theta), 0, y_r],\n",
       "[          0,            0, 1,   0],\n",
       "[          0,            0, 0,   1]])"
      ]
     },
     "execution_count": 5,
     "metadata": {},
     "output_type": "execute_result"
    }
   ],
   "source": [
    "Rrobot = Matrix([[c(t), -s(t), 0],\n",
    "                 [s(t),  c(t), 0],\n",
    "                 [0,     0,    1]])\n",
    "trobot = Matrix([[xr],[yr],[0]])\n",
    "tmp = Matrix(BlockMatrix([Rrobot,trobot]))\n",
    "Trobot = Matrix([[tmp],[0,0,0,1]])\n",
    "Trobot\n"
   ]
  },
  {
   "cell_type": "code",
   "execution_count": 6,
   "metadata": {},
   "outputs": [
    {
     "data": {
      "text/latex": [
       "$\\displaystyle \\left[\\begin{matrix}\\cos{\\left(\\theta \\right)} & \\sin{\\left(\\theta \\right)} & 0 & - x_{r} \\cos{\\left(\\theta \\right)} - y_{r} \\sin{\\left(\\theta \\right)}\\\\- \\sin{\\left(\\theta \\right)} & \\cos{\\left(\\theta \\right)} & 0 & x_{r} \\sin{\\left(\\theta \\right)} - y_{r} \\cos{\\left(\\theta \\right)}\\\\0 & 0 & 1 & 0\\\\0 & 0 & 0 & 1\\end{matrix}\\right]$"
      ],
      "text/plain": [
       "Matrix([\n",
       "[ cos(\\theta), sin(\\theta), 0, -x_r*cos(\\theta) - y_r*sin(\\theta)],\n",
       "[-sin(\\theta), cos(\\theta), 0,  x_r*sin(\\theta) - y_r*cos(\\theta)],\n",
       "[           0,           0, 1,                                  0],\n",
       "[           0,           0, 0,                                  1]])"
      ]
     },
     "execution_count": 6,
     "metadata": {},
     "output_type": "execute_result"
    }
   ],
   "source": [
    "tmp = Matrix(BlockMatrix([Rrobot.transpose(),-Rrobot.transpose()*trobot]))\n",
    "Trobot_inv = Matrix([[tmp],[0,0,0,1]])\n",
    "Trobot_inv\n"
   ]
  },
  {
   "cell_type": "code",
   "execution_count": 7,
   "metadata": {},
   "outputs": [
    {
     "data": {
      "text/latex": [
       "$\\displaystyle \\left[\\begin{matrix}0 & 0 & 1 & 0\\\\-1 & 0 & 0 & 0\\\\0 & -1 & 0 & h_{c}\\\\0 & 0 & 0 & 1\\end{matrix}\\right]$"
      ],
      "text/plain": [
       "Matrix([\n",
       "[ 0,  0, 1,   0],\n",
       "[-1,  0, 0,   0],\n",
       "[ 0, -1, 0, h_c],\n",
       "[ 0,  0, 0,   1]])"
      ]
     },
     "execution_count": 7,
     "metadata": {},
     "output_type": "execute_result"
    }
   ],
   "source": [
    "Rbc = Matrix([[0,  0, 1],\n",
    "                 [-1, 0, 0],\n",
    "                 [0, -1, 0]])\n",
    "tbc = Matrix([[0],[0],[hc]])\n",
    "tmp = Matrix(BlockMatrix([Rbc,tbc]))\n",
    "tmp \n",
    "Tbc = Matrix([[tmp],[0,0,0,1]])\n",
    "Tbc"
   ]
  },
  {
   "cell_type": "code",
   "execution_count": 8,
   "metadata": {},
   "outputs": [
    {
     "data": {
      "text/latex": [
       "$\\displaystyle \\left[\\begin{matrix}0 & -1 & 0 & 0\\\\0 & 0 & -1 & h_{c}\\\\1 & 0 & 0 & 0\\\\0 & 0 & 0 & 1\\end{matrix}\\right]$"
      ],
      "text/plain": [
       "Matrix([\n",
       "[0, -1,  0,   0],\n",
       "[0,  0, -1, h_c],\n",
       "[1,  0,  0,   0],\n",
       "[0,  0,  0,   1]])"
      ]
     },
     "execution_count": 8,
     "metadata": {},
     "output_type": "execute_result"
    }
   ],
   "source": [
    "Tbc_inv = Tbc.inv()\n",
    "Tbc_inv"
   ]
  },
  {
   "cell_type": "code",
   "execution_count": 9,
   "metadata": {},
   "outputs": [
    {
     "data": {
      "text/latex": [
       "$\\displaystyle \\left[\\begin{matrix}\\sin{\\left(\\theta \\right)} & - \\cos{\\left(\\theta \\right)} & 0 & - x_{r} \\sin{\\left(\\theta \\right)} + y_{r} \\cos{\\left(\\theta \\right)}\\\\0 & 0 & -1 & h_{c}\\\\\\cos{\\left(\\theta \\right)} & \\sin{\\left(\\theta \\right)} & 0 & - x_{r} \\cos{\\left(\\theta \\right)} - y_{r} \\sin{\\left(\\theta \\right)}\\\\0 & 0 & 0 & 1\\end{matrix}\\right]$"
      ],
      "text/plain": [
       "Matrix([\n",
       "[sin(\\theta), -cos(\\theta),  0, -x_r*sin(\\theta) + y_r*cos(\\theta)],\n",
       "[          0,            0, -1,                                h_c],\n",
       "[cos(\\theta),  sin(\\theta),  0, -x_r*cos(\\theta) - y_r*sin(\\theta)],\n",
       "[          0,            0,  0,                                  1]])"
      ]
     },
     "execution_count": 9,
     "metadata": {},
     "output_type": "execute_result"
    }
   ],
   "source": [
    "Tcam_inv = Tbc_inv*Trobot_inv\n",
    "Tcam_inv"
   ]
  },
  {
   "cell_type": "code",
   "execution_count": 10,
   "metadata": {},
   "outputs": [
    {
     "data": {
      "text/latex": [
       "$\\displaystyle X_{s} \\sin{\\left(\\theta \\right)} - Y_{s} \\cos{\\left(\\theta \\right)} - x_{r} \\sin{\\left(\\theta \\right)} + y_{r} \\cos{\\left(\\theta \\right)}$"
      ],
      "text/plain": [
       "X_s*sin(\\theta) - Y_s*cos(\\theta) - x_r*sin(\\theta) + y_r*cos(\\theta)"
      ]
     },
     "execution_count": 10,
     "metadata": {},
     "output_type": "execute_result"
    }
   ],
   "source": [
    "coord_cam_frame = Tcam_inv*Matrix([[xs],[ys],[zs],[1]])\n",
    "xs_hat = coord_cam_frame[0]\n",
    "xs_hat"
   ]
  },
  {
   "cell_type": "code",
   "execution_count": 11,
   "metadata": {},
   "outputs": [
    {
     "data": {
      "text/latex": [
       "$\\displaystyle - Z_{s} + h_{c}$"
      ],
      "text/plain": [
       "-Z_s + h_c"
      ]
     },
     "execution_count": 11,
     "metadata": {},
     "output_type": "execute_result"
    }
   ],
   "source": [
    "ys_hat = coord_cam_frame[1]\n",
    "ys_hat"
   ]
  },
  {
   "cell_type": "code",
   "execution_count": 12,
   "metadata": {},
   "outputs": [
    {
     "data": {
      "text/latex": [
       "$\\displaystyle X_{s} \\cos{\\left(\\theta \\right)} + Y_{s} \\sin{\\left(\\theta \\right)} - x_{r} \\cos{\\left(\\theta \\right)} - y_{r} \\sin{\\left(\\theta \\right)}$"
      ],
      "text/plain": [
       "X_s*cos(\\theta) + Y_s*sin(\\theta) - x_r*cos(\\theta) - y_r*sin(\\theta)"
      ]
     },
     "execution_count": 12,
     "metadata": {},
     "output_type": "execute_result"
    }
   ],
   "source": [
    "zs_hat = coord_cam_frame[2]\n",
    "zs_hat"
   ]
  },
  {
   "cell_type": "markdown",
   "metadata": {},
   "source": [
    "## $u_x$"
   ]
  },
  {
   "cell_type": "code",
   "execution_count": 13,
   "metadata": {},
   "outputs": [
    {
     "data": {
      "text/latex": [
       "$\\displaystyle \\frac{f_{x} \\left(X_{s} \\sin{\\left(\\theta \\right)} - Y_{s} \\cos{\\left(\\theta \\right)} - x_{r} \\sin{\\left(\\theta \\right)} + y_{r} \\cos{\\left(\\theta \\right)}\\right)}{X_{s} \\cos{\\left(\\theta \\right)} + Y_{s} \\sin{\\left(\\theta \\right)} - x_{r} \\cos{\\left(\\theta \\right)} - y_{r} \\sin{\\left(\\theta \\right)}} + p_{x}$"
      ],
      "text/plain": [
       "f_x*(X_s*sin(\\theta) - Y_s*cos(\\theta) - x_r*sin(\\theta) + y_r*cos(\\theta))/(X_s*cos(\\theta) + Y_s*sin(\\theta) - x_r*cos(\\theta) - y_r*sin(\\theta)) + p_x"
      ]
     },
     "execution_count": 13,
     "metadata": {},
     "output_type": "execute_result"
    }
   ],
   "source": [
    "ux = fx*xs_hat/zs_hat + px\n",
    "ux"
   ]
  },
  {
   "cell_type": "code",
   "execution_count": 14,
   "metadata": {},
   "outputs": [
    {
     "data": {
      "text/latex": [
       "$\\displaystyle \\frac{f_{x} \\left(X_{s} \\sin{\\left(\\theta \\right)} - Y_{s} \\cos{\\left(\\theta \\right)} - x_{r} \\sin{\\left(\\theta \\right)} + y_{r} \\cos{\\left(\\theta \\right)}\\right) \\cos{\\left(\\theta \\right)}}{\\left(X_{s} \\cos{\\left(\\theta \\right)} + Y_{s} \\sin{\\left(\\theta \\right)} - x_{r} \\cos{\\left(\\theta \\right)} - y_{r} \\sin{\\left(\\theta \\right)}\\right)^{2}} - \\frac{f_{x} \\sin{\\left(\\theta \\right)}}{X_{s} \\cos{\\left(\\theta \\right)} + Y_{s} \\sin{\\left(\\theta \\right)} - x_{r} \\cos{\\left(\\theta \\right)} - y_{r} \\sin{\\left(\\theta \\right)}}$"
      ],
      "text/plain": [
       "f_x*(X_s*sin(\\theta) - Y_s*cos(\\theta) - x_r*sin(\\theta) + y_r*cos(\\theta))*cos(\\theta)/(X_s*cos(\\theta) + Y_s*sin(\\theta) - x_r*cos(\\theta) - y_r*sin(\\theta))**2 - f_x*sin(\\theta)/(X_s*cos(\\theta) + Y_s*sin(\\theta) - x_r*cos(\\theta) - y_r*sin(\\theta))"
      ]
     },
     "execution_count": 14,
     "metadata": {},
     "output_type": "execute_result"
    }
   ],
   "source": [
    "diff(ux, xr)"
   ]
  },
  {
   "cell_type": "code",
   "execution_count": 15,
   "metadata": {},
   "outputs": [
    {
     "data": {
      "text/latex": [
       "$\\displaystyle \\frac{f_{x} \\left(X_{s} \\sin{\\left(\\theta \\right)} - Y_{s} \\cos{\\left(\\theta \\right)} - x_{r} \\sin{\\left(\\theta \\right)} + y_{r} \\cos{\\left(\\theta \\right)}\\right) \\sin{\\left(\\theta \\right)}}{\\left(X_{s} \\cos{\\left(\\theta \\right)} + Y_{s} \\sin{\\left(\\theta \\right)} - x_{r} \\cos{\\left(\\theta \\right)} - y_{r} \\sin{\\left(\\theta \\right)}\\right)^{2}} + \\frac{f_{x} \\cos{\\left(\\theta \\right)}}{X_{s} \\cos{\\left(\\theta \\right)} + Y_{s} \\sin{\\left(\\theta \\right)} - x_{r} \\cos{\\left(\\theta \\right)} - y_{r} \\sin{\\left(\\theta \\right)}}$"
      ],
      "text/plain": [
       "f_x*(X_s*sin(\\theta) - Y_s*cos(\\theta) - x_r*sin(\\theta) + y_r*cos(\\theta))*sin(\\theta)/(X_s*cos(\\theta) + Y_s*sin(\\theta) - x_r*cos(\\theta) - y_r*sin(\\theta))**2 + f_x*cos(\\theta)/(X_s*cos(\\theta) + Y_s*sin(\\theta) - x_r*cos(\\theta) - y_r*sin(\\theta))"
      ]
     },
     "execution_count": 15,
     "metadata": {},
     "output_type": "execute_result"
    }
   ],
   "source": [
    "diff(ux, yr)"
   ]
  },
  {
   "cell_type": "code",
   "execution_count": 16,
   "metadata": {},
   "outputs": [
    {
     "data": {
      "text/latex": [
       "$\\displaystyle \\frac{f_{x} \\left(X_{s} \\sin{\\left(\\theta \\right)} - Y_{s} \\cos{\\left(\\theta \\right)} - x_{r} \\sin{\\left(\\theta \\right)} + y_{r} \\cos{\\left(\\theta \\right)}\\right)^{2}}{\\left(X_{s} \\cos{\\left(\\theta \\right)} + Y_{s} \\sin{\\left(\\theta \\right)} - x_{r} \\cos{\\left(\\theta \\right)} - y_{r} \\sin{\\left(\\theta \\right)}\\right)^{2}} + f_{x}$"
      ],
      "text/plain": [
       "f_x*(X_s*sin(\\theta) - Y_s*cos(\\theta) - x_r*sin(\\theta) + y_r*cos(\\theta))**2/(X_s*cos(\\theta) + Y_s*sin(\\theta) - x_r*cos(\\theta) - y_r*sin(\\theta))**2 + f_x"
      ]
     },
     "execution_count": 16,
     "metadata": {},
     "output_type": "execute_result"
    }
   ],
   "source": [
    "diff(ux, t)"
   ]
  },
  {
   "cell_type": "code",
   "execution_count": 17,
   "metadata": {},
   "outputs": [
    {
     "data": {
      "text/latex": [
       "$\\displaystyle - \\frac{f_{x} \\left(X_{s} \\sin{\\left(\\theta \\right)} - Y_{s} \\cos{\\left(\\theta \\right)} - x_{r} \\sin{\\left(\\theta \\right)} + y_{r} \\cos{\\left(\\theta \\right)}\\right) \\cos{\\left(\\theta \\right)}}{\\left(X_{s} \\cos{\\left(\\theta \\right)} + Y_{s} \\sin{\\left(\\theta \\right)} - x_{r} \\cos{\\left(\\theta \\right)} - y_{r} \\sin{\\left(\\theta \\right)}\\right)^{2}} + \\frac{f_{x} \\sin{\\left(\\theta \\right)}}{X_{s} \\cos{\\left(\\theta \\right)} + Y_{s} \\sin{\\left(\\theta \\right)} - x_{r} \\cos{\\left(\\theta \\right)} - y_{r} \\sin{\\left(\\theta \\right)}}$"
      ],
      "text/plain": [
       "-f_x*(X_s*sin(\\theta) - Y_s*cos(\\theta) - x_r*sin(\\theta) + y_r*cos(\\theta))*cos(\\theta)/(X_s*cos(\\theta) + Y_s*sin(\\theta) - x_r*cos(\\theta) - y_r*sin(\\theta))**2 + f_x*sin(\\theta)/(X_s*cos(\\theta) + Y_s*sin(\\theta) - x_r*cos(\\theta) - y_r*sin(\\theta))"
      ]
     },
     "execution_count": 17,
     "metadata": {},
     "output_type": "execute_result"
    }
   ],
   "source": [
    "diff(ux, xs)"
   ]
  },
  {
   "cell_type": "code",
   "execution_count": 18,
   "metadata": {},
   "outputs": [
    {
     "data": {
      "text/latex": [
       "$\\displaystyle - \\frac{f_{x} \\left(X_{s} \\sin{\\left(\\theta \\right)} - Y_{s} \\cos{\\left(\\theta \\right)} - x_{r} \\sin{\\left(\\theta \\right)} + y_{r} \\cos{\\left(\\theta \\right)}\\right) \\sin{\\left(\\theta \\right)}}{\\left(X_{s} \\cos{\\left(\\theta \\right)} + Y_{s} \\sin{\\left(\\theta \\right)} - x_{r} \\cos{\\left(\\theta \\right)} - y_{r} \\sin{\\left(\\theta \\right)}\\right)^{2}} - \\frac{f_{x} \\cos{\\left(\\theta \\right)}}{X_{s} \\cos{\\left(\\theta \\right)} + Y_{s} \\sin{\\left(\\theta \\right)} - x_{r} \\cos{\\left(\\theta \\right)} - y_{r} \\sin{\\left(\\theta \\right)}}$"
      ],
      "text/plain": [
       "-f_x*(X_s*sin(\\theta) - Y_s*cos(\\theta) - x_r*sin(\\theta) + y_r*cos(\\theta))*sin(\\theta)/(X_s*cos(\\theta) + Y_s*sin(\\theta) - x_r*cos(\\theta) - y_r*sin(\\theta))**2 - f_x*cos(\\theta)/(X_s*cos(\\theta) + Y_s*sin(\\theta) - x_r*cos(\\theta) - y_r*sin(\\theta))"
      ]
     },
     "execution_count": 18,
     "metadata": {},
     "output_type": "execute_result"
    }
   ],
   "source": [
    "diff(ux, ys)"
   ]
  },
  {
   "cell_type": "code",
   "execution_count": 19,
   "metadata": {},
   "outputs": [
    {
     "data": {
      "text/latex": [
       "$\\displaystyle 0$"
      ],
      "text/plain": [
       "0"
      ]
     },
     "execution_count": 19,
     "metadata": {},
     "output_type": "execute_result"
    }
   ],
   "source": [
    "diff(ux, zs)"
   ]
  },
  {
   "cell_type": "markdown",
   "metadata": {},
   "source": [
    "## $u_y$"
   ]
  },
  {
   "cell_type": "code",
   "execution_count": 21,
   "metadata": {},
   "outputs": [
    {
     "data": {
      "text/latex": [
       "$\\displaystyle \\frac{f_{y} \\left(- Z_{s} + h_{c}\\right)}{X_{s} \\cos{\\left(\\theta \\right)} + Y_{s} \\sin{\\left(\\theta \\right)} - x_{r} \\cos{\\left(\\theta \\right)} - y_{r} \\sin{\\left(\\theta \\right)}} + p_{y}$"
      ],
      "text/plain": [
       "f_y*(-Z_s + h_c)/(X_s*cos(\\theta) + Y_s*sin(\\theta) - x_r*cos(\\theta) - y_r*sin(\\theta)) + p_y"
      ]
     },
     "execution_count": 21,
     "metadata": {},
     "output_type": "execute_result"
    }
   ],
   "source": [
    "uy = fy*ys_hat/zs_hat + py\n",
    "uy\n"
   ]
  },
  {
   "cell_type": "code",
   "execution_count": 59,
   "metadata": {},
   "outputs": [
    {
     "data": {
      "text/latex": [
       "$\\displaystyle \\frac{f_{y} \\left(- Z_{s} + h_{c}\\right) \\cos{\\left(\\theta \\right)}}{\\left(X_{s} \\cos{\\left(\\theta \\right)} + Y_{s} \\sin{\\left(\\theta \\right)} - x_{r} \\cos{\\left(\\theta \\right)} - y_{r} \\sin{\\left(\\theta \\right)}\\right)^{2}}$"
      ],
      "text/plain": [
       "f_y*(-Z_s + h_c)*cos(\\theta)/(X_s*cos(\\theta) + Y_s*sin(\\theta) - x_r*cos(\\theta) - y_r*sin(\\theta))**2"
      ]
     },
     "execution_count": 59,
     "metadata": {},
     "output_type": "execute_result"
    }
   ],
   "source": [
    "diff(uy, xr)"
   ]
  },
  {
   "cell_type": "code",
   "execution_count": 60,
   "metadata": {},
   "outputs": [
    {
     "data": {
      "text/latex": [
       "$\\displaystyle \\frac{f_{y} \\left(- Z_{s} + h_{c}\\right) \\sin{\\left(\\theta \\right)}}{\\left(X_{s} \\cos{\\left(\\theta \\right)} + Y_{s} \\sin{\\left(\\theta \\right)} - x_{r} \\cos{\\left(\\theta \\right)} - y_{r} \\sin{\\left(\\theta \\right)}\\right)^{2}}$"
      ],
      "text/plain": [
       "f_y*(-Z_s + h_c)*sin(\\theta)/(X_s*cos(\\theta) + Y_s*sin(\\theta) - x_r*cos(\\theta) - y_r*sin(\\theta))**2"
      ]
     },
     "execution_count": 60,
     "metadata": {},
     "output_type": "execute_result"
    }
   ],
   "source": [
    "diff(uy, yr)"
   ]
  },
  {
   "cell_type": "code",
   "execution_count": 61,
   "metadata": {},
   "outputs": [
    {
     "data": {
      "text/latex": [
       "$\\displaystyle \\frac{f_{y} \\left(- Z_{s} + h_{c}\\right) \\left(X_{s} \\sin{\\left(\\theta \\right)} - Y_{s} \\cos{\\left(\\theta \\right)} - x_{r} \\sin{\\left(\\theta \\right)} + y_{r} \\cos{\\left(\\theta \\right)}\\right)}{\\left(X_{s} \\cos{\\left(\\theta \\right)} + Y_{s} \\sin{\\left(\\theta \\right)} - x_{r} \\cos{\\left(\\theta \\right)} - y_{r} \\sin{\\left(\\theta \\right)}\\right)^{2}}$"
      ],
      "text/plain": [
       "f_y*(-Z_s + h_c)*(X_s*sin(\\theta) - Y_s*cos(\\theta) - x_r*sin(\\theta) + y_r*cos(\\theta))/(X_s*cos(\\theta) + Y_s*sin(\\theta) - x_r*cos(\\theta) - y_r*sin(\\theta))**2"
      ]
     },
     "execution_count": 61,
     "metadata": {},
     "output_type": "execute_result"
    }
   ],
   "source": [
    "diff(uy,t)"
   ]
  },
  {
   "cell_type": "code",
   "execution_count": 62,
   "metadata": {},
   "outputs": [
    {
     "data": {
      "text/latex": [
       "$\\displaystyle - \\frac{f_{y} \\left(- Z_{s} + h_{c}\\right) \\cos{\\left(\\theta \\right)}}{\\left(X_{s} \\cos{\\left(\\theta \\right)} + Y_{s} \\sin{\\left(\\theta \\right)} - x_{r} \\cos{\\left(\\theta \\right)} - y_{r} \\sin{\\left(\\theta \\right)}\\right)^{2}}$"
      ],
      "text/plain": [
       "-f_y*(-Z_s + h_c)*cos(\\theta)/(X_s*cos(\\theta) + Y_s*sin(\\theta) - x_r*cos(\\theta) - y_r*sin(\\theta))**2"
      ]
     },
     "execution_count": 62,
     "metadata": {},
     "output_type": "execute_result"
    }
   ],
   "source": [
    "diff(uy, xs)"
   ]
  },
  {
   "cell_type": "code",
   "execution_count": 63,
   "metadata": {},
   "outputs": [
    {
     "data": {
      "text/latex": [
       "$\\displaystyle - \\frac{f_{y} \\left(- Z_{s} + h_{c}\\right) \\sin{\\left(\\theta \\right)}}{\\left(X_{s} \\cos{\\left(\\theta \\right)} + Y_{s} \\sin{\\left(\\theta \\right)} - x_{r} \\cos{\\left(\\theta \\right)} - y_{r} \\sin{\\left(\\theta \\right)}\\right)^{2}}$"
      ],
      "text/plain": [
       "-f_y*(-Z_s + h_c)*sin(\\theta)/(X_s*cos(\\theta) + Y_s*sin(\\theta) - x_r*cos(\\theta) - y_r*sin(\\theta))**2"
      ]
     },
     "execution_count": 63,
     "metadata": {},
     "output_type": "execute_result"
    }
   ],
   "source": [
    "diff(uy, ys)"
   ]
  },
  {
   "cell_type": "code",
   "execution_count": 22,
   "metadata": {},
   "outputs": [
    {
     "data": {
      "text/latex": [
       "$\\displaystyle - \\frac{f_{y}}{X_{s} \\cos{\\left(\\theta \\right)} + Y_{s} \\sin{\\left(\\theta \\right)} - x_{r} \\cos{\\left(\\theta \\right)} - y_{r} \\sin{\\left(\\theta \\right)}}$"
      ],
      "text/plain": [
       "-f_y/(X_s*cos(\\theta) + Y_s*sin(\\theta) - x_r*cos(\\theta) - y_r*sin(\\theta))"
      ]
     },
     "execution_count": 22,
     "metadata": {},
     "output_type": "execute_result"
    }
   ],
   "source": [
    "diff(uy, zs)"
   ]
  }
 ],
 "metadata": {
  "kernelspec": {
   "display_name": "slam_env",
   "language": "python",
   "name": "python3"
  },
  "language_info": {
   "codemirror_mode": {
    "name": "ipython",
    "version": 3
   },
   "file_extension": ".py",
   "mimetype": "text/x-python",
   "name": "python",
   "nbconvert_exporter": "python",
   "pygments_lexer": "ipython3",
   "version": "3.12.1"
  }
 },
 "nbformat": 4,
 "nbformat_minor": 2
}
