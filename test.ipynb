{
 "cells": [
  {
   "cell_type": "code",
   "execution_count": 64,
   "metadata": {},
   "outputs": [],
   "source": [
    "import numpy as np\n",
    "from numpy import cos, sin\n",
    "from scipy.optimize import minimize\n",
    "from easydict import EasyDict as edict"
   ]
  },
  {
   "cell_type": "code",
   "execution_count": null,
   "metadata": {},
   "outputs": [],
   "source": [
    "CAM_HEIGHT=1.0\n",
    "FX = 1.0\n",
    "FY = 1.0\n",
    "PX = 0\n",
    "PY = 0\n",
    "\n",
    "def wrap(rad):\n",
    "    \"\"\"wrap a angle between 0 to 2pi\n",
    "\n",
    "    Args:\n",
    "        rad (_type_): _description_\n",
    "    \"\"\"\n",
    "    twopi = 2*np.pi\n",
    "    while rad >= twopi:\n",
    "        rad-=twopi\n",
    "    \n",
    "    while rad<0:\n",
    "        rad+=twopi\n",
    "    return rad\n",
    "\n",
    "def forward_ekf_single_pass(x,P,u,y,R,\n",
    "                            landmark_ind):\n",
    "    \"\"\"compute one pass of ekf update\n",
    "\n",
    "    Args:\n",
    "        x (_type_): state mean\n",
    "        P: state cov matrix\n",
    "        u (_type_): control input\n",
    "        y : new measurement\n",
    "        R : measurement noise covariance\n",
    "        jacobians (_type_): dictionary coding various jacobians\n",
    "        state_transition : state transition function\n",
    "        observation_model : measurement function\n",
    "    \"\"\"\n",
    "\n",
    "    # F: jacobian of state transition w.r.t x\n",
    "    # G: jacobian of state transition w.r.t process noise\n",
    "    F,G = state_transition_jacobian(x) # linearize around the previous mean\n",
    "\n",
    "    # ======= 1. prediction step ========= #\n",
    "    x_pred = state_transition(x, u, 0) # zero noise\n",
    "    y_pred = observation_model(x_pred)\n",
    "\n",
    "    # jacobian of measurement model w.r.t state\n",
    "    H = observation_model_jacobian(x_pred,landmark_ind)\n",
    "\n",
    "    P_ = np.linalg.multi_dot(F, P, F.T) + np.linalg.multi_dot(G)\n",
    "    S = np.linalg.multi_dot(H, P_, H.T) + R\n",
    "\n",
    "    # Kalman gain\n",
    "    K = np.linalg.multi_dot(P_, H.T, np.linalg.inv(S))\n",
    "\n",
    "    # ======= 2. correction step ========= #\n",
    "    n = x.shape[0]\n",
    "    x_next = x + K.dot(y-y_pred)\n",
    "    P_next = (np.eye(n)-K.dot(H)).dot(P)\n",
    "\n",
    "    out = edict()\n",
    "    out.x = x\n",
    "    out.P = P\n",
    "    out.x_pred = x_pred\n",
    "    out.x_next = x_next\n",
    "    out.P_next = P_next\n",
    "    out.u = u\n",
    "    out.R = R\n",
    "    out.F = F\n",
    "    out.G = G\n",
    "    out.H = H\n",
    "    out.y_pred = y_pred\n",
    "    out.P_ = P_\n",
    "    out.S = S\n",
    "    out.K = K\n",
    "\n",
    "    return out\n",
    "\n",
    "def state_transition(x, u, noise, dt=0.1):\n",
    "    \"\"\"state transition of a omnidirectional wheeled robot commanded by linear \n",
    "    velocity in x, y direction, and an angular velocity. In the simulation,\n",
    "    it is simply implemented as two linear joints and one rotational joint\n",
    "\n",
    "    Args:\n",
    "        x (_type_): state vector. the first 3 elements correspond to robot pose\n",
    "        u (_type_): control signal, vx, vy and wz\n",
    "        noise (_type_): _description_\n",
    "    \"\"\"\n",
    "    if not isinstance(noise, np.ndarray):\n",
    "        noise = noise*np.ones(3)\n",
    "\n",
    "    # unpack\n",
    "    vx, vy, wz = u\n",
    "\n",
    "    # update\n",
    "    x[0] = x[0]+vx*dt+noise[0]\n",
    "    x[1] = x[1]+vy*dt+noise[1]\n",
    "    x[2] = wrap(x[2]+wz*dt)+noise[2]\n",
    "\n",
    "    return x\n",
    "\n",
    "def state_transition_jacobian(x):\n",
    "    n = x.shape[0]\n",
    "    jac = np.zeros((n,n))\n",
    "    jac[0,0] = 1\n",
    "    jac[1,1] = 1\n",
    "    jac[2,2] = 1\n",
    "\n",
    "    F = jac\n",
    "    G = jac\n",
    "\n",
    "    return F,G\n",
    "\n",
    "def cam_pose_matrix(x, hc=CAM_HEIGHT):\n",
    "    # unpack robot pose\n",
    "    xr, yr, theta = x[:2]\n",
    "\n",
    "    # robot pose matrix\n",
    "    Rrobot = np.array([[cos(theta), -sin(theta),0],\n",
    "                       [sin(theta), cos(theta),0],\n",
    "                       [0,0,1]])\n",
    "    trobot = np.array([[xr],[yr],0])\n",
    "\n",
    "    Trobot_inv = np.concatenate([Rrobot.T,-Rrobot.T.dot(trobot)],axis=1)\n",
    "    Trobot_inv = np.concatenate([Trobot_inv, np.array([[0,0,0,1]])],axis=0)\n",
    "\n",
    "    Tbc_inv = np.array([[0,-1, 0,  0],\n",
    "                        [0, 0,-1, hc],\n",
    "                        [1, 0, 0,  0],\n",
    "                        [0, 0, 0,  1]])\n",
    "    \n",
    "    Tcam_inv = np.linalg.multi_dot([Tbc_inv, Trobot_inv])\n",
    "    return Tcam_inv\n",
    "\n",
    "def get_cam_frame_coord(x, Tcam_inv, ind):\n",
    "    xs,ys,zs = x[3+ind*3:3+ind*3+3]\n",
    "    h_coord = np.array([xs,ys,zs,1])[:,np.newaxis]\n",
    "    xs_hat, ys_hat, zs_hat, _ = Tcam_inv.dot(h_coord).flatten()\n",
    "    return xs_hat, ys_hat, zs_hat\n",
    "\n",
    "def project(xs_hat, ys_hat, zs_hat, fx=FX,fy=FY,px=PX,py=PY):\n",
    "    ux = fx*xs_hat/zs_hat+px\n",
    "    uy = fx*ys_hat/zs_hat+py\n",
    "    return ux, uy\n",
    "\n",
    "def observation_model(x,landmark_indices=None):\n",
    "    \"\"\" get the camera projection points of the landmarks\n",
    "\n",
    "    Args:\n",
    "        x (_type_): _description_\n",
    "        camera_height (_type_): _description_\n",
    "        calibration_matrix (_type_): _description_\n",
    "    \"\"\"\n",
    "    if landmark_indices is None:\n",
    "        n = x.shape\n",
    "        landmark_indices = [_ for _ in range((n-3)/3)]\n",
    "    Tcam_inv = cam_pose_matrix(x)\n",
    "    n_l = len(landmark_indices)\n",
    "    out = np.zeros((n_l*2,1))\n",
    "    for k,ind in enumerate(landmark_indices):\n",
    "        xs_hat, ys_hat, zs_hat,_ = get_cam_frame_coord(x, Tcam_inv, ind)\n",
    "        ux,uy = project(xs_hat, ys_hat, zs_hat)\n",
    "        out[2*k] = ux\n",
    "        out[2*k+1] = uy\n",
    "\n",
    "    return out\n",
    "\n",
    "def observation_model_jacobian(x,\n",
    "                               landmark_ind,\n",
    "                               fx=FX,fy=FY):\n",
    "    Tcam_inv = cam_pose_matrix(x)\n",
    "    ind = landmark_ind\n",
    "\n",
    "    xs_hat, ys_hat, zs_hat,_ = get_cam_frame_coord(x, Tcam_inv, ind)\n",
    "    theta = x[2]\n",
    "\n",
    "    # A equals xs_hat\n",
    "    A = xs_hat\n",
    "    B = zs_hat\n",
    "    A_B2 = A/B**2\n",
    "    B_inv = 1/B\n",
    "    c = cos(theta)\n",
    "    s = sin(theta)\n",
    "\n",
    "    # dux/dvar\n",
    "    dux_dxr = fx*(-B_inv*s+A_B2*c)\n",
    "    dux_dyr = fx*(B_inv*c+A_B2*s)\n",
    "    dux_dtheta = fx*(1+A*A_B2)\n",
    "    dux_dxs = fx*(B_inv*s-A_B2*c)\n",
    "    dux_dys = fx*(-B_inv*c-A_B2*s)\n",
    "    dux_dzs = 0\n",
    "\n",
    "    # duy/dvar\n",
    "    tmp = fy*ys_hat/(-zs_hat**2)\n",
    "    duy_dxr = tmp*(-c)\n",
    "    duy_dyr = tmp*(-s)\n",
    "    duy_dtheta = tmp*(-xs_hat)\n",
    "    duy_dxs = tmp*c\n",
    "    duy_dys = tmp*s\n",
    "    duy_dzs = -fy/zs_hat\n",
    "\n",
    "    Jr = np.array([[dux_dxr, dux_dyr, dux_dtheta],\n",
    "                   [duy_dxr, duy_dyr, duy_dtheta]])\n",
    "    \n",
    "    Jl = np.array([[dux_dxs, dux_dys, dux_dzs],\n",
    "                   [duy_dxs, duy_dys, duy_dzs]])\n",
    "    \n",
    "    N = 3+3*4\n",
    "    H = np.zeros((2,N))\n",
    "    H[:,:3] = Jr\n",
    "    i = landmark_ind\n",
    "    H[:,3+i*3:3+i*3+3] = Jl\n",
    "\n",
    "    return H"
   ]
  },
  {
   "cell_type": "markdown",
   "metadata": {},
   "source": [
    "## Confirm Jacobian calculations"
   ]
  },
  {
   "cell_type": "code",
   "execution_count": 2,
   "metadata": {},
   "outputs": [],
   "source": [
    "from sympy import symbols, Matrix, BlockMatrix\n",
    "import numpy as np\n",
    "from sympy import cos as c\n",
    "from sympy import sin as s\n",
    "from sympy import diff"
   ]
  },
  {
   "cell_type": "code",
   "execution_count": 3,
   "metadata": {},
   "outputs": [],
   "source": [
    "xr, yr, t, xs, ys, zs = symbols(\"x_r y_r \\\\theta X_s Y_s Z_s\")\n",
    "hc = symbols(\"h_c\")\n",
    "fx, fy, px, py = symbols(\"f_x f_y p_x p_y\")"
   ]
  },
  {
   "cell_type": "code",
   "execution_count": 5,
   "metadata": {},
   "outputs": [
    {
     "data": {
      "text/latex": [
       "$\\displaystyle \\left[\\begin{matrix}\\cos{\\left(\\theta \\right)} & - \\sin{\\left(\\theta \\right)} & 0 & x_{r}\\\\\\sin{\\left(\\theta \\right)} & \\cos{\\left(\\theta \\right)} & 0 & y_{r}\\\\0 & 0 & 1 & 0\\\\0 & 0 & 0 & 1\\end{matrix}\\right]$"
      ],
      "text/plain": [
       "Matrix([\n",
       "[cos(\\theta), -sin(\\theta), 0, x_r],\n",
       "[sin(\\theta),  cos(\\theta), 0, y_r],\n",
       "[          0,            0, 1,   0],\n",
       "[          0,            0, 0,   1]])"
      ]
     },
     "execution_count": 5,
     "metadata": {},
     "output_type": "execute_result"
    }
   ],
   "source": [
    "Rrobot = Matrix([[c(t), -s(t), 0],\n",
    "                 [s(t),  c(t), 0],\n",
    "                 [0,     0,    1]])\n",
    "trobot = Matrix([[xr],[yr],[0]])\n",
    "tmp = Matrix(BlockMatrix([Rrobot,trobot]))\n",
    "tmp \n",
    "Trobot = Matrix([[tmp],[0,0,0,1]])\n",
    "Trobot\n"
   ]
  },
  {
   "cell_type": "code",
   "execution_count": 6,
   "metadata": {},
   "outputs": [
    {
     "data": {
      "text/latex": [
       "$\\displaystyle \\left[\\begin{matrix}\\cos{\\left(\\theta \\right)} & \\sin{\\left(\\theta \\right)} & 0 & - x_{r} \\cos{\\left(\\theta \\right)} - y_{r} \\sin{\\left(\\theta \\right)}\\\\- \\sin{\\left(\\theta \\right)} & \\cos{\\left(\\theta \\right)} & 0 & x_{r} \\sin{\\left(\\theta \\right)} - y_{r} \\cos{\\left(\\theta \\right)}\\\\0 & 0 & 1 & 0\\\\0 & 0 & 0 & 1\\end{matrix}\\right]$"
      ],
      "text/plain": [
       "Matrix([\n",
       "[ cos(\\theta), sin(\\theta), 0, -x_r*cos(\\theta) - y_r*sin(\\theta)],\n",
       "[-sin(\\theta), cos(\\theta), 0,  x_r*sin(\\theta) - y_r*cos(\\theta)],\n",
       "[           0,           0, 1,                                  0],\n",
       "[           0,           0, 0,                                  1]])"
      ]
     },
     "execution_count": 6,
     "metadata": {},
     "output_type": "execute_result"
    }
   ],
   "source": [
    "tmp = Matrix(BlockMatrix([Rrobot.transpose(),-Rrobot.transpose()*trobot]))\n",
    "Trobot_inv = Matrix([[tmp],[0,0,0,1]])\n",
    "Trobot_inv\n"
   ]
  },
  {
   "cell_type": "code",
   "execution_count": 7,
   "metadata": {},
   "outputs": [
    {
     "data": {
      "text/latex": [
       "$\\displaystyle \\left[\\begin{matrix}0 & 0 & 1 & 0\\\\-1 & 0 & 0 & 0\\\\0 & -1 & 0 & h_{c}\\\\0 & 0 & 0 & 1\\end{matrix}\\right]$"
      ],
      "text/plain": [
       "Matrix([\n",
       "[ 0,  0, 1,   0],\n",
       "[-1,  0, 0,   0],\n",
       "[ 0, -1, 0, h_c],\n",
       "[ 0,  0, 0,   1]])"
      ]
     },
     "execution_count": 7,
     "metadata": {},
     "output_type": "execute_result"
    }
   ],
   "source": [
    "Rbc = Matrix([[0,  0, 1],\n",
    "                 [-1, 0, 0],\n",
    "                 [0, -1, 0]])\n",
    "tbc = Matrix([[0],[0],[hc]])\n",
    "tmp = Matrix(BlockMatrix([Rbc,tbc]))\n",
    "tmp \n",
    "Tbc = Matrix([[tmp],[0,0,0,1]])\n",
    "Tbc"
   ]
  },
  {
   "cell_type": "code",
   "execution_count": 8,
   "metadata": {},
   "outputs": [
    {
     "data": {
      "text/latex": [
       "$\\displaystyle \\left[\\begin{matrix}0 & -1 & 0 & 0\\\\0 & 0 & -1 & h_{c}\\\\1 & 0 & 0 & 0\\\\0 & 0 & 0 & 1\\end{matrix}\\right]$"
      ],
      "text/plain": [
       "Matrix([\n",
       "[0, -1,  0,   0],\n",
       "[0,  0, -1, h_c],\n",
       "[1,  0,  0,   0],\n",
       "[0,  0,  0,   1]])"
      ]
     },
     "execution_count": 8,
     "metadata": {},
     "output_type": "execute_result"
    }
   ],
   "source": [
    "Tbc_inv = Tbc.inv()\n",
    "Tbc_inv"
   ]
  },
  {
   "cell_type": "code",
   "execution_count": 9,
   "metadata": {},
   "outputs": [
    {
     "data": {
      "text/latex": [
       "$\\displaystyle \\left[\\begin{matrix}\\sin{\\left(\\theta \\right)} & - \\cos{\\left(\\theta \\right)} & 0 & - x_{r} \\sin{\\left(\\theta \\right)} + y_{r} \\cos{\\left(\\theta \\right)}\\\\0 & 0 & -1 & h_{c}\\\\\\cos{\\left(\\theta \\right)} & \\sin{\\left(\\theta \\right)} & 0 & - x_{r} \\cos{\\left(\\theta \\right)} - y_{r} \\sin{\\left(\\theta \\right)}\\\\0 & 0 & 0 & 1\\end{matrix}\\right]$"
      ],
      "text/plain": [
       "Matrix([\n",
       "[sin(\\theta), -cos(\\theta),  0, -x_r*sin(\\theta) + y_r*cos(\\theta)],\n",
       "[          0,            0, -1,                                h_c],\n",
       "[cos(\\theta),  sin(\\theta),  0, -x_r*cos(\\theta) - y_r*sin(\\theta)],\n",
       "[          0,            0,  0,                                  1]])"
      ]
     },
     "execution_count": 9,
     "metadata": {},
     "output_type": "execute_result"
    }
   ],
   "source": [
    "Tcam_inv = Tbc_inv*Trobot_inv\n",
    "Tcam_inv"
   ]
  },
  {
   "cell_type": "code",
   "execution_count": 10,
   "metadata": {},
   "outputs": [
    {
     "data": {
      "text/latex": [
       "$\\displaystyle X_{s} \\sin{\\left(\\theta \\right)} - Y_{s} \\cos{\\left(\\theta \\right)} - x_{r} \\sin{\\left(\\theta \\right)} + y_{r} \\cos{\\left(\\theta \\right)}$"
      ],
      "text/plain": [
       "X_s*sin(\\theta) - Y_s*cos(\\theta) - x_r*sin(\\theta) + y_r*cos(\\theta)"
      ]
     },
     "execution_count": 10,
     "metadata": {},
     "output_type": "execute_result"
    }
   ],
   "source": [
    "coord_cam_frame = Tcam_inv*Matrix([[xs],[ys],[zs],[1]])\n",
    "xs_hat = coord_cam_frame[0]\n",
    "xs_hat"
   ]
  },
  {
   "cell_type": "code",
   "execution_count": 11,
   "metadata": {},
   "outputs": [
    {
     "data": {
      "text/latex": [
       "$\\displaystyle - Z_{s} + h_{c}$"
      ],
      "text/plain": [
       "-Z_s + h_c"
      ]
     },
     "execution_count": 11,
     "metadata": {},
     "output_type": "execute_result"
    }
   ],
   "source": [
    "ys_hat = coord_cam_frame[1]\n",
    "ys_hat"
   ]
  },
  {
   "cell_type": "code",
   "execution_count": 12,
   "metadata": {},
   "outputs": [
    {
     "data": {
      "text/latex": [
       "$\\displaystyle X_{s} \\cos{\\left(\\theta \\right)} + Y_{s} \\sin{\\left(\\theta \\right)} - x_{r} \\cos{\\left(\\theta \\right)} - y_{r} \\sin{\\left(\\theta \\right)}$"
      ],
      "text/plain": [
       "X_s*cos(\\theta) + Y_s*sin(\\theta) - x_r*cos(\\theta) - y_r*sin(\\theta)"
      ]
     },
     "execution_count": 12,
     "metadata": {},
     "output_type": "execute_result"
    }
   ],
   "source": [
    "zs_hat = coord_cam_frame[2]\n",
    "zs_hat"
   ]
  },
  {
   "cell_type": "markdown",
   "metadata": {},
   "source": [
    "## $u_x$"
   ]
  },
  {
   "cell_type": "code",
   "execution_count": 13,
   "metadata": {},
   "outputs": [
    {
     "data": {
      "text/latex": [
       "$\\displaystyle \\frac{f_{x} \\left(X_{s} \\sin{\\left(\\theta \\right)} - Y_{s} \\cos{\\left(\\theta \\right)} - x_{r} \\sin{\\left(\\theta \\right)} + y_{r} \\cos{\\left(\\theta \\right)}\\right)}{X_{s} \\cos{\\left(\\theta \\right)} + Y_{s} \\sin{\\left(\\theta \\right)} - x_{r} \\cos{\\left(\\theta \\right)} - y_{r} \\sin{\\left(\\theta \\right)}} + p_{x}$"
      ],
      "text/plain": [
       "f_x*(X_s*sin(\\theta) - Y_s*cos(\\theta) - x_r*sin(\\theta) + y_r*cos(\\theta))/(X_s*cos(\\theta) + Y_s*sin(\\theta) - x_r*cos(\\theta) - y_r*sin(\\theta)) + p_x"
      ]
     },
     "execution_count": 13,
     "metadata": {},
     "output_type": "execute_result"
    }
   ],
   "source": [
    "ux = fx*xs_hat/zs_hat + px\n",
    "ux"
   ]
  },
  {
   "cell_type": "code",
   "execution_count": 14,
   "metadata": {},
   "outputs": [
    {
     "data": {
      "text/latex": [
       "$\\displaystyle \\frac{f_{x} \\left(X_{s} \\sin{\\left(\\theta \\right)} - Y_{s} \\cos{\\left(\\theta \\right)} - x_{r} \\sin{\\left(\\theta \\right)} + y_{r} \\cos{\\left(\\theta \\right)}\\right) \\cos{\\left(\\theta \\right)}}{\\left(X_{s} \\cos{\\left(\\theta \\right)} + Y_{s} \\sin{\\left(\\theta \\right)} - x_{r} \\cos{\\left(\\theta \\right)} - y_{r} \\sin{\\left(\\theta \\right)}\\right)^{2}} - \\frac{f_{x} \\sin{\\left(\\theta \\right)}}{X_{s} \\cos{\\left(\\theta \\right)} + Y_{s} \\sin{\\left(\\theta \\right)} - x_{r} \\cos{\\left(\\theta \\right)} - y_{r} \\sin{\\left(\\theta \\right)}}$"
      ],
      "text/plain": [
       "f_x*(X_s*sin(\\theta) - Y_s*cos(\\theta) - x_r*sin(\\theta) + y_r*cos(\\theta))*cos(\\theta)/(X_s*cos(\\theta) + Y_s*sin(\\theta) - x_r*cos(\\theta) - y_r*sin(\\theta))**2 - f_x*sin(\\theta)/(X_s*cos(\\theta) + Y_s*sin(\\theta) - x_r*cos(\\theta) - y_r*sin(\\theta))"
      ]
     },
     "execution_count": 14,
     "metadata": {},
     "output_type": "execute_result"
    }
   ],
   "source": [
    "diff(ux, xr)"
   ]
  },
  {
   "cell_type": "code",
   "execution_count": 15,
   "metadata": {},
   "outputs": [
    {
     "data": {
      "text/latex": [
       "$\\displaystyle \\frac{f_{x} \\left(X_{s} \\sin{\\left(\\theta \\right)} - Y_{s} \\cos{\\left(\\theta \\right)} - x_{r} \\sin{\\left(\\theta \\right)} + y_{r} \\cos{\\left(\\theta \\right)}\\right) \\sin{\\left(\\theta \\right)}}{\\left(X_{s} \\cos{\\left(\\theta \\right)} + Y_{s} \\sin{\\left(\\theta \\right)} - x_{r} \\cos{\\left(\\theta \\right)} - y_{r} \\sin{\\left(\\theta \\right)}\\right)^{2}} + \\frac{f_{x} \\cos{\\left(\\theta \\right)}}{X_{s} \\cos{\\left(\\theta \\right)} + Y_{s} \\sin{\\left(\\theta \\right)} - x_{r} \\cos{\\left(\\theta \\right)} - y_{r} \\sin{\\left(\\theta \\right)}}$"
      ],
      "text/plain": [
       "f_x*(X_s*sin(\\theta) - Y_s*cos(\\theta) - x_r*sin(\\theta) + y_r*cos(\\theta))*sin(\\theta)/(X_s*cos(\\theta) + Y_s*sin(\\theta) - x_r*cos(\\theta) - y_r*sin(\\theta))**2 + f_x*cos(\\theta)/(X_s*cos(\\theta) + Y_s*sin(\\theta) - x_r*cos(\\theta) - y_r*sin(\\theta))"
      ]
     },
     "execution_count": 15,
     "metadata": {},
     "output_type": "execute_result"
    }
   ],
   "source": [
    "diff(ux, yr)"
   ]
  },
  {
   "cell_type": "code",
   "execution_count": 16,
   "metadata": {},
   "outputs": [
    {
     "data": {
      "text/latex": [
       "$\\displaystyle \\frac{f_{x} \\left(X_{s} \\sin{\\left(\\theta \\right)} - Y_{s} \\cos{\\left(\\theta \\right)} - x_{r} \\sin{\\left(\\theta \\right)} + y_{r} \\cos{\\left(\\theta \\right)}\\right)^{2}}{\\left(X_{s} \\cos{\\left(\\theta \\right)} + Y_{s} \\sin{\\left(\\theta \\right)} - x_{r} \\cos{\\left(\\theta \\right)} - y_{r} \\sin{\\left(\\theta \\right)}\\right)^{2}} + f_{x}$"
      ],
      "text/plain": [
       "f_x*(X_s*sin(\\theta) - Y_s*cos(\\theta) - x_r*sin(\\theta) + y_r*cos(\\theta))**2/(X_s*cos(\\theta) + Y_s*sin(\\theta) - x_r*cos(\\theta) - y_r*sin(\\theta))**2 + f_x"
      ]
     },
     "execution_count": 16,
     "metadata": {},
     "output_type": "execute_result"
    }
   ],
   "source": [
    "diff(ux, t)"
   ]
  },
  {
   "cell_type": "code",
   "execution_count": 17,
   "metadata": {},
   "outputs": [
    {
     "data": {
      "text/latex": [
       "$\\displaystyle - \\frac{f_{x} \\left(X_{s} \\sin{\\left(\\theta \\right)} - Y_{s} \\cos{\\left(\\theta \\right)} - x_{r} \\sin{\\left(\\theta \\right)} + y_{r} \\cos{\\left(\\theta \\right)}\\right) \\cos{\\left(\\theta \\right)}}{\\left(X_{s} \\cos{\\left(\\theta \\right)} + Y_{s} \\sin{\\left(\\theta \\right)} - x_{r} \\cos{\\left(\\theta \\right)} - y_{r} \\sin{\\left(\\theta \\right)}\\right)^{2}} + \\frac{f_{x} \\sin{\\left(\\theta \\right)}}{X_{s} \\cos{\\left(\\theta \\right)} + Y_{s} \\sin{\\left(\\theta \\right)} - x_{r} \\cos{\\left(\\theta \\right)} - y_{r} \\sin{\\left(\\theta \\right)}}$"
      ],
      "text/plain": [
       "-f_x*(X_s*sin(\\theta) - Y_s*cos(\\theta) - x_r*sin(\\theta) + y_r*cos(\\theta))*cos(\\theta)/(X_s*cos(\\theta) + Y_s*sin(\\theta) - x_r*cos(\\theta) - y_r*sin(\\theta))**2 + f_x*sin(\\theta)/(X_s*cos(\\theta) + Y_s*sin(\\theta) - x_r*cos(\\theta) - y_r*sin(\\theta))"
      ]
     },
     "execution_count": 17,
     "metadata": {},
     "output_type": "execute_result"
    }
   ],
   "source": [
    "diff(ux, xs)"
   ]
  },
  {
   "cell_type": "code",
   "execution_count": 18,
   "metadata": {},
   "outputs": [
    {
     "data": {
      "text/latex": [
       "$\\displaystyle - \\frac{f_{x} \\left(X_{s} \\sin{\\left(\\theta \\right)} - Y_{s} \\cos{\\left(\\theta \\right)} - x_{r} \\sin{\\left(\\theta \\right)} + y_{r} \\cos{\\left(\\theta \\right)}\\right) \\sin{\\left(\\theta \\right)}}{\\left(X_{s} \\cos{\\left(\\theta \\right)} + Y_{s} \\sin{\\left(\\theta \\right)} - x_{r} \\cos{\\left(\\theta \\right)} - y_{r} \\sin{\\left(\\theta \\right)}\\right)^{2}} - \\frac{f_{x} \\cos{\\left(\\theta \\right)}}{X_{s} \\cos{\\left(\\theta \\right)} + Y_{s} \\sin{\\left(\\theta \\right)} - x_{r} \\cos{\\left(\\theta \\right)} - y_{r} \\sin{\\left(\\theta \\right)}}$"
      ],
      "text/plain": [
       "-f_x*(X_s*sin(\\theta) - Y_s*cos(\\theta) - x_r*sin(\\theta) + y_r*cos(\\theta))*sin(\\theta)/(X_s*cos(\\theta) + Y_s*sin(\\theta) - x_r*cos(\\theta) - y_r*sin(\\theta))**2 - f_x*cos(\\theta)/(X_s*cos(\\theta) + Y_s*sin(\\theta) - x_r*cos(\\theta) - y_r*sin(\\theta))"
      ]
     },
     "execution_count": 18,
     "metadata": {},
     "output_type": "execute_result"
    }
   ],
   "source": [
    "diff(ux, ys)"
   ]
  },
  {
   "cell_type": "code",
   "execution_count": 19,
   "metadata": {},
   "outputs": [
    {
     "data": {
      "text/latex": [
       "$\\displaystyle 0$"
      ],
      "text/plain": [
       "0"
      ]
     },
     "execution_count": 19,
     "metadata": {},
     "output_type": "execute_result"
    }
   ],
   "source": [
    "diff(ux, zs)"
   ]
  },
  {
   "cell_type": "markdown",
   "metadata": {},
   "source": [
    "## $u_y$"
   ]
  },
  {
   "cell_type": "code",
   "execution_count": 21,
   "metadata": {},
   "outputs": [
    {
     "data": {
      "text/latex": [
       "$\\displaystyle \\frac{f_{y} \\left(- Z_{s} + h_{c}\\right)}{X_{s} \\cos{\\left(\\theta \\right)} + Y_{s} \\sin{\\left(\\theta \\right)} - x_{r} \\cos{\\left(\\theta \\right)} - y_{r} \\sin{\\left(\\theta \\right)}} + p_{y}$"
      ],
      "text/plain": [
       "f_y*(-Z_s + h_c)/(X_s*cos(\\theta) + Y_s*sin(\\theta) - x_r*cos(\\theta) - y_r*sin(\\theta)) + p_y"
      ]
     },
     "execution_count": 21,
     "metadata": {},
     "output_type": "execute_result"
    }
   ],
   "source": [
    "uy = fy*ys_hat/zs_hat + py\n",
    "uy\n"
   ]
  },
  {
   "cell_type": "code",
   "execution_count": 59,
   "metadata": {},
   "outputs": [
    {
     "data": {
      "text/latex": [
       "$\\displaystyle \\frac{f_{y} \\left(- Z_{s} + h_{c}\\right) \\cos{\\left(\\theta \\right)}}{\\left(X_{s} \\cos{\\left(\\theta \\right)} + Y_{s} \\sin{\\left(\\theta \\right)} - x_{r} \\cos{\\left(\\theta \\right)} - y_{r} \\sin{\\left(\\theta \\right)}\\right)^{2}}$"
      ],
      "text/plain": [
       "f_y*(-Z_s + h_c)*cos(\\theta)/(X_s*cos(\\theta) + Y_s*sin(\\theta) - x_r*cos(\\theta) - y_r*sin(\\theta))**2"
      ]
     },
     "execution_count": 59,
     "metadata": {},
     "output_type": "execute_result"
    }
   ],
   "source": [
    "diff(uy, xr)"
   ]
  },
  {
   "cell_type": "code",
   "execution_count": 60,
   "metadata": {},
   "outputs": [
    {
     "data": {
      "text/latex": [
       "$\\displaystyle \\frac{f_{y} \\left(- Z_{s} + h_{c}\\right) \\sin{\\left(\\theta \\right)}}{\\left(X_{s} \\cos{\\left(\\theta \\right)} + Y_{s} \\sin{\\left(\\theta \\right)} - x_{r} \\cos{\\left(\\theta \\right)} - y_{r} \\sin{\\left(\\theta \\right)}\\right)^{2}}$"
      ],
      "text/plain": [
       "f_y*(-Z_s + h_c)*sin(\\theta)/(X_s*cos(\\theta) + Y_s*sin(\\theta) - x_r*cos(\\theta) - y_r*sin(\\theta))**2"
      ]
     },
     "execution_count": 60,
     "metadata": {},
     "output_type": "execute_result"
    }
   ],
   "source": [
    "diff(uy, yr)"
   ]
  },
  {
   "cell_type": "code",
   "execution_count": 61,
   "metadata": {},
   "outputs": [
    {
     "data": {
      "text/latex": [
       "$\\displaystyle \\frac{f_{y} \\left(- Z_{s} + h_{c}\\right) \\left(X_{s} \\sin{\\left(\\theta \\right)} - Y_{s} \\cos{\\left(\\theta \\right)} - x_{r} \\sin{\\left(\\theta \\right)} + y_{r} \\cos{\\left(\\theta \\right)}\\right)}{\\left(X_{s} \\cos{\\left(\\theta \\right)} + Y_{s} \\sin{\\left(\\theta \\right)} - x_{r} \\cos{\\left(\\theta \\right)} - y_{r} \\sin{\\left(\\theta \\right)}\\right)^{2}}$"
      ],
      "text/plain": [
       "f_y*(-Z_s + h_c)*(X_s*sin(\\theta) - Y_s*cos(\\theta) - x_r*sin(\\theta) + y_r*cos(\\theta))/(X_s*cos(\\theta) + Y_s*sin(\\theta) - x_r*cos(\\theta) - y_r*sin(\\theta))**2"
      ]
     },
     "execution_count": 61,
     "metadata": {},
     "output_type": "execute_result"
    }
   ],
   "source": [
    "diff(uy,t)"
   ]
  },
  {
   "cell_type": "code",
   "execution_count": 62,
   "metadata": {},
   "outputs": [
    {
     "data": {
      "text/latex": [
       "$\\displaystyle - \\frac{f_{y} \\left(- Z_{s} + h_{c}\\right) \\cos{\\left(\\theta \\right)}}{\\left(X_{s} \\cos{\\left(\\theta \\right)} + Y_{s} \\sin{\\left(\\theta \\right)} - x_{r} \\cos{\\left(\\theta \\right)} - y_{r} \\sin{\\left(\\theta \\right)}\\right)^{2}}$"
      ],
      "text/plain": [
       "-f_y*(-Z_s + h_c)*cos(\\theta)/(X_s*cos(\\theta) + Y_s*sin(\\theta) - x_r*cos(\\theta) - y_r*sin(\\theta))**2"
      ]
     },
     "execution_count": 62,
     "metadata": {},
     "output_type": "execute_result"
    }
   ],
   "source": [
    "diff(uy, xs)"
   ]
  },
  {
   "cell_type": "code",
   "execution_count": 63,
   "metadata": {},
   "outputs": [
    {
     "data": {
      "text/latex": [
       "$\\displaystyle - \\frac{f_{y} \\left(- Z_{s} + h_{c}\\right) \\sin{\\left(\\theta \\right)}}{\\left(X_{s} \\cos{\\left(\\theta \\right)} + Y_{s} \\sin{\\left(\\theta \\right)} - x_{r} \\cos{\\left(\\theta \\right)} - y_{r} \\sin{\\left(\\theta \\right)}\\right)^{2}}$"
      ],
      "text/plain": [
       "-f_y*(-Z_s + h_c)*sin(\\theta)/(X_s*cos(\\theta) + Y_s*sin(\\theta) - x_r*cos(\\theta) - y_r*sin(\\theta))**2"
      ]
     },
     "execution_count": 63,
     "metadata": {},
     "output_type": "execute_result"
    }
   ],
   "source": [
    "diff(uy, ys)"
   ]
  },
  {
   "cell_type": "code",
   "execution_count": 22,
   "metadata": {},
   "outputs": [
    {
     "data": {
      "text/latex": [
       "$\\displaystyle - \\frac{f_{y}}{X_{s} \\cos{\\left(\\theta \\right)} + Y_{s} \\sin{\\left(\\theta \\right)} - x_{r} \\cos{\\left(\\theta \\right)} - y_{r} \\sin{\\left(\\theta \\right)}}$"
      ],
      "text/plain": [
       "-f_y/(X_s*cos(\\theta) + Y_s*sin(\\theta) - x_r*cos(\\theta) - y_r*sin(\\theta))"
      ]
     },
     "execution_count": 22,
     "metadata": {},
     "output_type": "execute_result"
    }
   ],
   "source": [
    "diff(uy, zs)"
   ]
  }
 ],
 "metadata": {
  "kernelspec": {
   "display_name": "slam_env",
   "language": "python",
   "name": "python3"
  },
  "language_info": {
   "codemirror_mode": {
    "name": "ipython",
    "version": 3
   },
   "file_extension": ".py",
   "mimetype": "text/x-python",
   "name": "python",
   "nbconvert_exporter": "python",
   "pygments_lexer": "ipython3",
   "version": "3.12.1"
  }
 },
 "nbformat": 4,
 "nbformat_minor": 2
}
